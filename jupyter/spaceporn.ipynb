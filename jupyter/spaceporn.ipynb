{
 "cells": [
  {
   "cell_type": "code",
   "execution_count": 317,
   "metadata": {},
   "outputs": [],
   "source": [
    "# NOTE:  following notebook runs on Ubuntu linux (uses gsettings)\n",
    "\n",
    "import urllib\n",
    "\n",
    "def retrieve_url(url, callback):\n",
    "    # handle gateway errors\n",
    "    data_retrieved = False\n",
    "    retry_count = 0\n",
    "    while (not data_retrieved) and (retry_count < 10):\n",
    "        try:\n",
    "            with urllib.request.urlopen(url) as url_page:\n",
    "                url_data = url_page.read()\n",
    "                if callback is not None:\n",
    "                    data = callback(url_data)\n",
    "                    return data\n",
    "                return url_data\n",
    "        except Exception as e:\n",
    "            if '502' in str(e):\n",
    "                retry_count += 1\n",
    "    return None\n",
    "\n",
    "spaceporn_html = retrieve_url('https://reddit.com/r/spaceporn', None)"
   ]
  },
  {
   "cell_type": "code",
   "execution_count": 318,
   "metadata": {},
   "outputs": [],
   "source": [
    "from bs4 import BeautifulSoup\n",
    "\n",
    "spaceporn_soup = BeautifulSoup(spaceporn_html)"
   ]
  },
  {
   "cell_type": "code",
   "execution_count": 319,
   "metadata": {},
   "outputs": [
    {
     "data": {
      "text/plain": [
       "[<img alt=\"Post image\" class=\"_2_tDEnGMLxpM6uOa2kaDB3 ImageBox-image media-element _1XWObl-3b9tPy64oaG6fax\" src=\"https://preview.redd.it/4q3j1qpja9l51.png?width=640&amp;crop=smart&amp;auto=webp&amp;s=0c6cb4e821fe30527fab32a4cba5711061ddd0a3\" style=\"max-height:512px\"/>,\n",
       " <img alt=\"Post image\" class=\"_2_tDEnGMLxpM6uOa2kaDB3 ImageBox-image media-element _1XWObl-3b9tPy64oaG6fax\" src=\"https://preview.redd.it/urf7nezoefl51.jpg?width=640&amp;crop=smart&amp;auto=webp&amp;s=85feb5bd6d45a0aea0cc4c91ccfa904d6868fa24\" style=\"max-height:512px\"/>,\n",
       " <img alt=\"Post image\" class=\"_2_tDEnGMLxpM6uOa2kaDB3 ImageBox-image media-element _1XWObl-3b9tPy64oaG6fax\" src=\"https://preview.redd.it/gixhk241pcl51.jpg?width=640&amp;crop=smart&amp;auto=webp&amp;s=bb371ceca27b4ce5d442f51282e95b6cef0033d1\" style=\"max-height:512px\"/>,\n",
       " <img alt=\"Post image\" class=\"_2_tDEnGMLxpM6uOa2kaDB3 ImageBox-image media-element _1XWObl-3b9tPy64oaG6fax\" src=\"https://preview.redd.it/anyajenmtfl51.jpg?width=640&amp;crop=smart&amp;auto=webp&amp;s=b10309b761eeea0f4d329db5fbc75983e0e2feeb\" style=\"max-height:512px\"/>,\n",
       " <img alt=\"Post image\" class=\"_2_tDEnGMLxpM6uOa2kaDB3 ImageBox-image media-element _1XWObl-3b9tPy64oaG6fax\" src=\"https://preview.redd.it/ik9yan72bcl51.jpg?width=640&amp;crop=smart&amp;auto=webp&amp;s=7f6f44f84095f2dccbbbb9020581400ba95dff8c\" style=\"max-height:512px\"/>]"
      ]
     },
     "execution_count": 319,
     "metadata": {},
     "output_type": "execute_result"
    }
   ],
   "source": [
    "image_info_list = spaceporn_soup.select('a[href] > div > div > img')\n",
    "image_info_list"
   ]
  },
  {
   "cell_type": "code",
   "execution_count": 320,
   "metadata": {},
   "outputs": [
    {
     "data": {
      "text/plain": [
       "[<a href=\"/r/spaceporn/comments/in0ktp/i_hiked_out_into_the_new_zealand_bush_to/\"><div class=\"_3Oa0THmZ3f5iZXAQ0hBJ0k\" style=\"max-height:512px;margin:0 auto\"><div><img alt=\"Post image\" class=\"_2_tDEnGMLxpM6uOa2kaDB3 ImageBox-image media-element _1XWObl-3b9tPy64oaG6fax\" src=\"https://preview.redd.it/4q3j1qpja9l51.png?width=640&amp;crop=smart&amp;auto=webp&amp;s=0c6cb4e821fe30527fab32a4cba5711061ddd0a3\" style=\"max-height:512px\"/></div></div></a>,\n",
       " <a href=\"/r/spaceporn/comments/inctqw/the_cats_eye_nebula_continues_to_shed_material_at/\"><div class=\"_3Oa0THmZ3f5iZXAQ0hBJ0k\" style=\"max-height:512px;margin:0 auto\"><div><img alt=\"Post image\" class=\"_2_tDEnGMLxpM6uOa2kaDB3 ImageBox-image media-element _1XWObl-3b9tPy64oaG6fax\" src=\"https://preview.redd.it/urf7nezoefl51.jpg?width=640&amp;crop=smart&amp;auto=webp&amp;s=85feb5bd6d45a0aea0cc4c91ccfa904d6868fa24\" style=\"max-height:512px\"/></div></div></a>,\n",
       " <a href=\"/r/spaceporn/comments/in3e8e/an_astro_composite_i_made_consisting_of_a/\"><div class=\"_3Oa0THmZ3f5iZXAQ0hBJ0k\" style=\"max-height:512px;margin:0 auto\"><div><img alt=\"Post image\" class=\"_2_tDEnGMLxpM6uOa2kaDB3 ImageBox-image media-element _1XWObl-3b9tPy64oaG6fax\" src=\"https://preview.redd.it/gixhk241pcl51.jpg?width=640&amp;crop=smart&amp;auto=webp&amp;s=bb371ceca27b4ce5d442f51282e95b6cef0033d1\" style=\"max-height:512px\"/></div></div></a>,\n",
       " <a href=\"/r/spaceporn/comments/ine1nc/ic_5070_the_pelican_nebula/\"><div class=\"_3Oa0THmZ3f5iZXAQ0hBJ0k\" style=\"max-height:512px;margin:0 auto\"><div><img alt=\"Post image\" class=\"_2_tDEnGMLxpM6uOa2kaDB3 ImageBox-image media-element _1XWObl-3b9tPy64oaG6fax\" src=\"https://preview.redd.it/anyajenmtfl51.jpg?width=640&amp;crop=smart&amp;auto=webp&amp;s=b10309b761eeea0f4d329db5fbc75983e0e2feeb\" style=\"max-height:512px\"/></div></div></a>,\n",
       " <a href=\"/r/spaceporn/comments/in22ij/apollo_12_landing_site_as_seen_by_a_japanese_probe/\"><div class=\"_3Oa0THmZ3f5iZXAQ0hBJ0k\" style=\"max-height:512px;margin:0 auto\"><div><img alt=\"Post image\" class=\"_2_tDEnGMLxpM6uOa2kaDB3 ImageBox-image media-element _1XWObl-3b9tPy64oaG6fax\" src=\"https://preview.redd.it/ik9yan72bcl51.jpg?width=640&amp;crop=smart&amp;auto=webp&amp;s=7f6f44f84095f2dccbbbb9020581400ba95dff8c\" style=\"max-height:512px\"/></div></div></a>]"
      ]
     },
     "execution_count": 320,
     "metadata": {},
     "output_type": "execute_result"
    }
   ],
   "source": [
    "image_link_info_list = []\n",
    "for image_info in image_info_list:\n",
    "    image_link_info = image_info.parent.parent.parent\n",
    "    image_link_info_list.append(image_link_info)\n",
    "image_link_info_list"
   ]
  },
  {
   "cell_type": "code",
   "execution_count": 321,
   "metadata": {},
   "outputs": [
    {
     "data": {
      "text/plain": [
       "['https://www.reddit.com/r/spaceporn/comments/in0ktp/i_hiked_out_into_the_new_zealand_bush_to/',\n",
       " 'https://www.reddit.com/r/spaceporn/comments/inctqw/the_cats_eye_nebula_continues_to_shed_material_at/',\n",
       " 'https://www.reddit.com/r/spaceporn/comments/in3e8e/an_astro_composite_i_made_consisting_of_a/',\n",
       " 'https://www.reddit.com/r/spaceporn/comments/ine1nc/ic_5070_the_pelican_nebula/',\n",
       " 'https://www.reddit.com/r/spaceporn/comments/in22ij/apollo_12_landing_site_as_seen_by_a_japanese_probe/']"
      ]
     },
     "execution_count": 321,
     "metadata": {},
     "output_type": "execute_result"
    }
   ],
   "source": [
    "image_url_list = []\n",
    "for image_link_info in image_link_info_list:\n",
    "    image_url = 'https://www.reddit.com' + image_link_info.get('href')\n",
    "    image_url_list.append(image_url)\n",
    "image_url_list"
   ]
  },
  {
   "cell_type": "code",
   "execution_count": 323,
   "metadata": {},
   "outputs": [
    {
     "data": {
      "text/plain": [
       "[<a href=\"https://i.redd.it/4q3j1qpja9l51.png\" target=\"_blank\"><img alt=\"r/spaceporn - I hiked out into the New Zealand bush to photograph details of the milkyway core that are invisable to the naked eye. In this direction, behind the dark dust, is the super massive blackhole that we orbit\" class=\"_2_tDEnGMLxpM6uOa2kaDB3 ImageBox-image media-element _1XWObl-3b9tPy64oaG6fax\" src=\"https://preview.redd.it/4q3j1qpja9l51.png?width=960&amp;crop=smart&amp;auto=webp&amp;s=ffae910f4ae23ff5fb996c2c5d14e36ffdfd456b\" style=\"max-height:700px\"/></a>,\n",
       " <a href=\"https://i.redd.it/urf7nezoefl51.jpg\" target=\"_blank\"><img alt=\"r/spaceporn - The Cat's Eye Nebula Continues To Shed Material At 4 Million MPH On Its Way To Becoming A White Dwarf Star Like Our Sun.\" class=\"_2_tDEnGMLxpM6uOa2kaDB3 ImageBox-image media-element _1XWObl-3b9tPy64oaG6fax\" src=\"https://preview.redd.it/urf7nezoefl51.jpg?width=960&amp;crop=smart&amp;auto=webp&amp;s=ca91fbd675270e95f2d12be68eb72c7c4621dec0\" style=\"max-height:700px\"/></a>,\n",
       " <a href=\"https://i.redd.it/gixhk241pcl51.jpg\" target=\"_blank\"><img alt=\"r/spaceporn - An astro composite i made consisting of a milkywayphoto (Tracked and stacked 10st 3min exposure + calibration frames, bortle 1) a moon photo (3000st tracked exposures + calibration frames, bortle 8 fml...) And a single long exposure picture of my girl during sunset on a mountain top.\" class=\"_2_tDEnGMLxpM6uOa2kaDB3 ImageBox-image media-element _1XWObl-3b9tPy64oaG6fax\" src=\"https://preview.redd.it/gixhk241pcl51.jpg?width=960&amp;crop=smart&amp;auto=webp&amp;s=4fb48624e836e8a3d9b3130c74cfb177c45b0c74\" style=\"max-height:700px\"/></a>,\n",
       " <a href=\"https://i.redd.it/anyajenmtfl51.jpg\" target=\"_blank\"><img alt=\"r/spaceporn - IC 5070 - The Pelican Nebula\" class=\"_2_tDEnGMLxpM6uOa2kaDB3 ImageBox-image media-element _1XWObl-3b9tPy64oaG6fax\" src=\"https://preview.redd.it/anyajenmtfl51.jpg?width=640&amp;crop=smart&amp;auto=webp&amp;s=b10309b761eeea0f4d329db5fbc75983e0e2feeb\" style=\"max-height:700px\"/></a>,\n",
       " <a href=\"https://i.redd.it/ik9yan72bcl51.jpg\" target=\"_blank\"><img alt=\"r/spaceporn - Apollo 12 landing site as seen by a Japanese probe.\" class=\"_2_tDEnGMLxpM6uOa2kaDB3 ImageBox-image media-element _1XWObl-3b9tPy64oaG6fax\" src=\"https://i.redd.it/ik9yan72bcl51.jpg\" style=\"max-height:700px\"/></a>]"
      ]
     },
     "execution_count": 323,
     "metadata": {},
     "output_type": "execute_result"
    }
   ],
   "source": [
    "import re\n",
    "\n",
    "def image_callback(image_page_html):\n",
    "    image_page_soup = BeautifulSoup(image_page_html)\n",
    "    image_marker = image_page_soup.find('img', alt=re.compile(\"spaceporn\"))\n",
    "    image_download_info = image_marker.parent\n",
    "    return image_download_info\n",
    "\n",
    "image_download_info_list = []\n",
    "for image_url in image_url_list:\n",
    "    image_download_info = retrieve_url(image_url, image_callback)\n",
    "    if image_download_info is not None:\n",
    "        image_download_info_list.append(image_download_info)\n",
    "image_download_info_list"
   ]
  },
  {
   "cell_type": "code",
   "execution_count": 324,
   "metadata": {},
   "outputs": [
    {
     "data": {
      "text/plain": [
       "['https://i.redd.it/4q3j1qpja9l51.png',\n",
       " 'https://i.redd.it/urf7nezoefl51.jpg',\n",
       " 'https://i.redd.it/gixhk241pcl51.jpg',\n",
       " 'https://i.redd.it/anyajenmtfl51.jpg',\n",
       " 'https://i.redd.it/ik9yan72bcl51.jpg']"
      ]
     },
     "execution_count": 324,
     "metadata": {},
     "output_type": "execute_result"
    }
   ],
   "source": [
    "image_link_url_list = []\n",
    "for image_download_info in image_download_info_list:    \n",
    "    image_link_url = image_download_info.get('href')\n",
    "    image_link_url_list.append(image_link_url)\n",
    "image_link_url_list"
   ]
  },
  {
   "cell_type": "code",
   "execution_count": 325,
   "metadata": {},
   "outputs": [],
   "source": [
    "for image_link_url in image_link_url_list:\n",
    "    image_data = retrieve_url(image_link_url, None)\n",
    "    image_name = image_link_url.split('/')[-1]\n",
    "    with open(image_name, 'wb') as f:\n",
    "        f.write(image_data)"
   ]
  },
  {
   "cell_type": "code",
   "execution_count": 294,
   "metadata": {},
   "outputs": [
    {
     "data": {
      "text/plain": [
       "'Linux'"
      ]
     },
     "execution_count": 294,
     "metadata": {},
     "output_type": "execute_result"
    }
   ],
   "source": [
    "import platform\n",
    "platform.system()"
   ]
  },
  {
   "cell_type": "code",
   "execution_count": 295,
   "metadata": {},
   "outputs": [
    {
     "data": {
      "text/plain": [
       "'#21-Ubuntu SMP Tue Apr 24 06:16:15 UTC 2018'"
      ]
     },
     "execution_count": 295,
     "metadata": {},
     "output_type": "execute_result"
    }
   ],
   "source": [
    "platform.version()"
   ]
  },
  {
   "cell_type": "code",
   "execution_count": 296,
   "metadata": {},
   "outputs": [
    {
     "data": {
      "text/plain": [
       "True"
      ]
     },
     "execution_count": 296,
     "metadata": {},
     "output_type": "execute_result"
    }
   ],
   "source": [
    "import subprocess\n",
    "result = subprocess.run(['gsettings'], stdout=subprocess.PIPE, stderr=subprocess.PIPE)\n",
    "'Usage' in str(result.stderr)"
   ]
  },
  {
   "cell_type": "code",
   "execution_count": 326,
   "metadata": {},
   "outputs": [
    {
     "data": {
      "text/plain": [
       "['4q3j1qpja9l51.png',\n",
       " 'anyajenmtfl51.jpg',\n",
       " 'gixhk241pcl51.jpg',\n",
       " 'ik9yan72bcl51.jpg',\n",
       " 'urf7nezoefl51.jpg']"
      ]
     },
     "execution_count": 326,
     "metadata": {},
     "output_type": "execute_result"
    }
   ],
   "source": [
    "images = []\n",
    "result = subprocess.run(['ls'], stdout=subprocess.PIPE, text=True)\n",
    "for filename in result.stdout.strip().split('\\n'):\n",
    "    ext = filename.split('.')[-1]\n",
    "    if ext == 'jpg' or ext == 'png':\n",
    "        images.append(filename)\n",
    "images"
   ]
  },
  {
   "cell_type": "code",
   "execution_count": 298,
   "metadata": {},
   "outputs": [],
   "source": [
    "result = subprocess.run(['pwd'], stdout=subprocess.PIPE, text=True)\n",
    "pwd = str(result.stdout).strip()"
   ]
  },
  {
   "cell_type": "code",
   "execution_count": 327,
   "metadata": {},
   "outputs": [
    {
     "data": {
      "text/plain": [
       "'file:////home/luke/devel/imageFeed/jupyter/urf7nezoefl51.jpg'"
      ]
     },
     "execution_count": 327,
     "metadata": {},
     "output_type": "execute_result"
    }
   ],
   "source": [
    "file_path = 'file:///' + pwd + '/' + images[4]\n",
    "file_path"
   ]
  },
  {
   "cell_type": "code",
   "execution_count": 328,
   "metadata": {},
   "outputs": [
    {
     "data": {
      "text/plain": [
       "('', '')"
      ]
     },
     "execution_count": 328,
     "metadata": {},
     "output_type": "execute_result"
    }
   ],
   "source": [
    "result = subprocess.run(['gsettings', 'set', 'org.gnome.desktop.background', 'picture-uri', file_path], stdout=subprocess.PIPE, stderr=subprocess.PIPE, text=True)\n",
    "(result.stdout, result.stderr)"
   ]
  }
 ],
 "metadata": {
  "kernelspec": {
   "display_name": "Python 3",
   "language": "python",
   "name": "python3"
  },
  "language_info": {
   "codemirror_mode": {
    "name": "ipython",
    "version": 3
   },
   "file_extension": ".py",
   "mimetype": "text/x-python",
   "name": "python",
   "nbconvert_exporter": "python",
   "pygments_lexer": "ipython3",
   "version": "3.7.4"
  }
 },
 "nbformat": 4,
 "nbformat_minor": 4
}
