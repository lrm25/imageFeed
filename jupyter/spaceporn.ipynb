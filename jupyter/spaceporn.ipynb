{
 "cells": [
  {
   "cell_type": "code",
   "execution_count": 144,
   "metadata": {},
   "outputs": [],
   "source": [
    "import urllib\n",
    "\n",
    "with urllib.request.urlopen('http://reddit.com/r/spaceporn') as spaceporn_page:\n",
    "    spaceporn_html = spaceporn_page.read()"
   ]
  },
  {
   "cell_type": "code",
   "execution_count": 145,
   "metadata": {},
   "outputs": [],
   "source": [
    "from bs4 import BeautifulSoup\n",
    "\n",
    "spaceporn_soup = BeautifulSoup(spaceporn_html)"
   ]
  },
  {
   "cell_type": "code",
   "execution_count": 146,
   "metadata": {},
   "outputs": [],
   "source": [
    "links = spaceporn_soup.select('a[href] > div > div > img')"
   ]
  },
  {
   "cell_type": "code",
   "execution_count": 156,
   "metadata": {},
   "outputs": [
    {
     "data": {
      "text/plain": [
       "<a href=\"/r/spaceporn/comments/in0ktp/i_hiked_out_into_the_new_zealand_bush_to/\"><div class=\"_3Oa0THmZ3f5iZXAQ0hBJ0k\" style=\"max-height:512px;margin:0 auto\"><div><img alt=\"Post image\" class=\"_2_tDEnGMLxpM6uOa2kaDB3 ImageBox-image media-element _1XWObl-3b9tPy64oaG6fax\" src=\"https://preview.redd.it/4q3j1qpja9l51.png?width=640&amp;crop=smart&amp;auto=webp&amp;s=0c6cb4e821fe30527fab32a4cba5711061ddd0a3\" style=\"max-height:512px\"/></div></div></a>"
      ]
     },
     "execution_count": 156,
     "metadata": {},
     "output_type": "execute_result"
    }
   ],
   "source": [
    "first_image_link = links[0].parent.parent.parent\n",
    "first_image_link"
   ]
  },
  {
   "cell_type": "code",
   "execution_count": 148,
   "metadata": {},
   "outputs": [
    {
     "data": {
      "text/plain": [
       "'https://www.reddit.com/r/spaceporn/comments/in0ktp/i_hiked_out_into_the_new_zealand_bush_to/'"
      ]
     },
     "execution_count": 148,
     "metadata": {},
     "output_type": "execute_result"
    }
   ],
   "source": [
    "first_image_url = 'https://www.reddit.com' + first_image_link.get('href')\n",
    "first_image_url"
   ]
  },
  {
   "cell_type": "code",
   "execution_count": 149,
   "metadata": {},
   "outputs": [],
   "source": [
    "with urllib.request.urlopen(first_image_url) as first_image_page:\n",
    "    first_image_page_html = first_image_page.read()"
   ]
  },
  {
   "cell_type": "code",
   "execution_count": 150,
   "metadata": {},
   "outputs": [],
   "source": [
    "first_image_page_soup = BeautifulSoup(first_image_page_html)"
   ]
  },
  {
   "cell_type": "code",
   "execution_count": 157,
   "metadata": {},
   "outputs": [
    {
     "data": {
      "text/plain": [
       "<a href=\"https://i.redd.it/4q3j1qpja9l51.png\" target=\"_blank\"><img alt=\"r/spaceporn - I hiked out into the New Zealand bush to photograph details of the milkyway core that are invisable to the naked eye. In this direction, behind the dark dust, is the super massive blackhole that we orbit\" class=\"_2_tDEnGMLxpM6uOa2kaDB3 ImageBox-image media-element _1XWObl-3b9tPy64oaG6fax\" src=\"https://preview.redd.it/4q3j1qpja9l51.png?width=960&amp;crop=smart&amp;auto=webp&amp;s=ffae910f4ae23ff5fb996c2c5d14e36ffdfd456b\" style=\"max-height:700px\"/></a>"
      ]
     },
     "execution_count": 157,
     "metadata": {},
     "output_type": "execute_result"
    }
   ],
   "source": [
    "import re\n",
    "first_image_file_html = first_image_page_soup.find('img', alt=re.compile(\"spaceporn\")).parent\n",
    "first_image_file_html"
   ]
  },
  {
   "cell_type": "code",
   "execution_count": 152,
   "metadata": {},
   "outputs": [
    {
     "data": {
      "text/plain": [
       "'https://i.redd.it/4q3j1qpja9l51.png'"
      ]
     },
     "execution_count": 152,
     "metadata": {},
     "output_type": "execute_result"
    }
   ],
   "source": [
    "image_link_url = first_image_file_html.get('href')\n",
    "first_image_file_html.get('href')"
   ]
  },
  {
   "cell_type": "code",
   "execution_count": 153,
   "metadata": {},
   "outputs": [],
   "source": [
    "with urllib.request.urlopen(image_link_url) as image_link:\n",
    "    spaceporn_latest_image = image_link.read()"
   ]
  },
  {
   "cell_type": "code",
   "execution_count": 158,
   "metadata": {},
   "outputs": [
    {
     "data": {
      "text/plain": [
       "'4q3j1qpja9l51.png'"
      ]
     },
     "execution_count": 158,
     "metadata": {},
     "output_type": "execute_result"
    }
   ],
   "source": [
    "image_name = image_link_url.split('/')[-1]\n",
    "image_name"
   ]
  },
  {
   "cell_type": "code",
   "execution_count": 155,
   "metadata": {},
   "outputs": [],
   "source": [
    "with open(image_name, 'wb') as f:\n",
    "    f.write(spaceporn_latest_image)"
   ]
  },
  {
   "cell_type": "code",
   "execution_count": null,
   "metadata": {},
   "outputs": [],
   "source": []
  }
 ],
 "metadata": {
  "kernelspec": {
   "display_name": "Python 3",
   "language": "python",
   "name": "python3"
  },
  "language_info": {
   "codemirror_mode": {
    "name": "ipython",
    "version": 3
   },
   "file_extension": ".py",
   "mimetype": "text/x-python",
   "name": "python",
   "nbconvert_exporter": "python",
   "pygments_lexer": "ipython3",
   "version": "3.7.4"
  }
 },
 "nbformat": 4,
 "nbformat_minor": 4
}
